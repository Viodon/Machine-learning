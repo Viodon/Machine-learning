{
  "cells": [
    {
      "cell_type": "markdown",
      "metadata": {
        "id": "NJ9XRp91EVuZ"
      },
      "source": [
        "\n",
        "\n",
        "---\n",
        "\n",
        "\n",
        "Гринюк Андрій Валерійович\n",
        "\n",
        "\n",
        "\n",
        "---\n",
        "\n",
        "\n",
        "ФІТ 4-5\n",
        "\n",
        "---\n",
        "\n",
        "\n",
        "Лабораторна робота №1\n",
        "\n",
        "---\n",
        "\n",
        "\n",
        "Варіант №5\n",
        "\n",
        "---\n",
        "\n"
      ]
    },
    {
      "cell_type": "code",
      "execution_count": 1,
      "metadata": {
        "colab": {
          "base_uri": "https://localhost:8080/"
        },
        "id": "732MdfzzAEqf",
        "outputId": "4ad1e470-c4d6-4cff-9a83-b249438a898b"
      },
      "outputs": [
        {
          "ename": "ModuleNotFoundError",
          "evalue": "No module named 'numpy'",
          "output_type": "error",
          "traceback": [
            "\u001b[1;31m---------------------------------------------------------------------------\u001b[0m",
            "\u001b[1;31mModuleNotFoundError\u001b[0m                       Traceback (most recent call last)",
            "\u001b[1;32m<ipython-input-1-4a6f7fd40ab0>\u001b[0m in \u001b[0;36m<module>\u001b[1;34m\u001b[0m\n\u001b[0;32m      1\u001b[0m \u001b[1;31m# 1 Створіть одновимірний масив (вектор) зі зворотнім порядком перших 10 натуральних чисел та виведіть його значення.\u001b[0m\u001b[1;33m\u001b[0m\u001b[1;33m\u001b[0m\u001b[0m\n\u001b[0;32m      2\u001b[0m \u001b[1;33m\u001b[0m\u001b[0m\n\u001b[1;32m----> 3\u001b[1;33m \u001b[1;32mimport\u001b[0m \u001b[0mnumpy\u001b[0m \u001b[1;32mas\u001b[0m \u001b[0mnp\u001b[0m\u001b[1;33m\u001b[0m\u001b[0m\n\u001b[0m\u001b[0;32m      4\u001b[0m \u001b[1;33m\u001b[0m\u001b[0m\n\u001b[0;32m      5\u001b[0m \u001b[0mn\u001b[0m \u001b[1;33m=\u001b[0m \u001b[1;36m10\u001b[0m\u001b[1;33m\u001b[0m\u001b[0m\n",
            "\u001b[1;31mModuleNotFoundError\u001b[0m: No module named 'numpy'"
          ]
        }
      ],
      "source": [
        "# 1 Створіть одновимірний масив (вектор) зі зворотнім порядком перших 10 натуральних чисел та виведіть його значення.\n",
        "\n",
        "import numpy as np\n",
        "\n",
        "n = 10\n",
        "vector = list(range(n, 0, -1))\n",
        "print(vector)\n",
        "\n"
      ]
    },
    {
      "cell_type": "code",
      "execution_count": null,
      "metadata": {
        "colab": {
          "base_uri": "https://localhost:8080/"
        },
        "id": "Q0MPCxRqBFYe",
        "outputId": "993af9ce-9c05-4f45-d88d-f21e8d48ace9"
      },
      "outputs": [
        {
          "name": "stdout",
          "output_type": "stream",
          "text": [
            "[96, 93, 90]\n",
            "[87, 84, 81]\n",
            "[78, 75, 72]\n"
          ]
        }
      ],
      "source": [
        "# 2 Створіть двовимірний масив (матрицю) розміром 3x3, заповніть його послідовністю чисел, де кожне наступне число менше попереднього на 3, та виведіть його значення.\n",
        "\n",
        "matrix = [[0, 0, 0],\n",
        "          [0, 0, 0],\n",
        "          [0, 0, 0]]\n",
        "\n",
        "start_value = 96\n",
        "\n",
        "for i in range(3):\n",
        "    for j in range(3):\n",
        "        matrix[i][j] = start_value\n",
        "        start_value -= 3\n",
        "\n",
        "for row in matrix:\n",
        "    print(row)"
      ]
    },
    {
      "cell_type": "code",
      "execution_count": null,
      "metadata": {
        "colab": {
          "base_uri": "https://localhost:8080/"
        },
        "id": "iFnG8AfwBVEG",
        "outputId": "8000233f-128c-4f1f-ec53-0f8bd1b245b9"
      },
      "outputs": [
        {
          "name": "stdout",
          "output_type": "stream",
          "text": [
            "[[5.55068768e-01 7.16521689e-01 9.95513229e-01 3.98918358e-01\n",
            "  9.17291036e-01 3.20946681e-02 1.18890866e-01 8.66211840e-01]\n",
            " [8.88842684e-01 3.11769372e-01 7.84148357e-01 3.43558371e-02\n",
            "  3.39754596e-02 1.11251324e-01 3.42764130e-01 5.56122244e-01]\n",
            " [3.07369579e-02 3.56568745e-01 8.85080324e-01 2.71146050e-01\n",
            "  3.02986808e-01 1.66200949e-01 9.56523174e-01 5.28915934e-01]\n",
            " [6.88743928e-01 1.76876771e-01 4.64652498e-01 7.74655221e-01\n",
            "  3.59432240e-04 9.96119321e-01 3.84791511e-01 8.20246811e-01]\n",
            " [1.71850519e-01 1.66780780e-01 1.41373789e-01 7.63378907e-01\n",
            "  2.25845732e-01 1.40789253e-01 4.70044696e-01 9.24595345e-02]\n",
            " [9.72206964e-01 4.55734355e-01 3.14462218e-01 8.20542299e-01\n",
            "  6.39722111e-01 3.33220757e-01 8.57463460e-01 5.31905009e-01]\n",
            " [8.38001601e-01 5.12861915e-02 1.55583610e-01 9.85259092e-02\n",
            "  6.29643670e-01 7.08833008e-01 5.12938531e-01 9.54238748e-01]\n",
            " [2.58200624e-01 4.94664354e-01 2.76781070e-01 9.86582184e-01\n",
            "  1.24176352e-01 2.16379384e-02 2.67814816e-01 5.65036774e-01]]\n"
          ]
        }
      ],
      "source": [
        "# 3 Створіть масив розміром 8x8, заповніть його випадковими дійсними числами від 0 до 1 та виведіть його значення.\n",
        "\n",
        "matrix = np.random.rand(8, 8)\n",
        "\n",
        "print(matrix)"
      ]
    },
    {
      "cell_type": "code",
      "execution_count": null,
      "metadata": {
        "colab": {
          "base_uri": "https://localhost:8080/"
        },
        "id": "g3Zqn-l_DZ9M",
        "outputId": "2012fe20-d9bc-416a-d73c-4344ca9de7e9"
      },
      "outputs": [
        {
          "name": "stdout",
          "output_type": "stream",
          "text": [
            "Матриця:\n",
            "[[0.87823719 0.24922131 0.39645078]\n",
            " [0.79795525 0.89357486 0.59353382]\n",
            " [0.25970151 0.45834221 0.59220028]]\n",
            "Добуток елементів: 0.0025886548945022905\n"
          ]
        }
      ],
      "source": [
        "# 4 Створіть масив розміром 3x3, заповніть його випадковими дійсними числами в діапазоні від 0 до 1 та обчисліть добуток всіх елементів.\n",
        "\n",
        "matrix = np.random.rand(3, 3)\n",
        "\n",
        "print(\"Матриця:\")\n",
        "print(matrix)\n",
        "\n",
        "product = np.prod(matrix)\n",
        "\n",
        "print(\"Добуток елементів:\", product)"
      ]
    },
    {
      "cell_type": "code",
      "execution_count": null,
      "metadata": {
        "colab": {
          "base_uri": "https://localhost:8080/"
        },
        "id": "dVGn14zODvSz",
        "outputId": "ea57ea7c-725a-430d-842e-4cf6c408478d"
      },
      "outputs": [
        {
          "name": "stdout",
          "output_type": "stream",
          "text": [
            "Перший масив: [ 15  -3 -11 -18  -7  10]\n",
            "Другий масив: [ 20   6  -3   3 -16 -19]\n",
            "Результат додавання: [ 35   3 -14 -15 -23  -9]\n",
            "Результат віднімання: [ -5  -9  -8 -21   9  29]\n",
            "Результат множення: [ 300  -18   33  -54  112 -190]\n"
          ]
        }
      ],
      "source": [
        "# 5 Створіть два одновимірних масиви розміром 6, заповніть їх випадковими цілими числами в\n",
        "# діапазоні від -20 до 20 та виконайте на них поелементні операції додавання, віднімання та множення.\n",
        "\n",
        "array1 = np.random.randint(-20, 21, 6)\n",
        "array2 = np.random.randint(-20, 21, 6)\n",
        "\n",
        "print(\"Перший масив:\", array1)\n",
        "print(\"Другий масив:\", array2)\n",
        "\n",
        "sum = array1 + array2\n",
        "subtraction = array1 - array2\n",
        "multiplication = array1 * array2\n",
        "\n",
        "print(\"Результат додавання:\", sum)\n",
        "print(\"Результат віднімання:\", subtraction)\n",
        "print(\"Результат множення:\", multiplication)"
      ]
    },
    {
      "cell_type": "code",
      "execution_count": null,
      "metadata": {
        "colab": {
          "base_uri": "https://localhost:8080/"
        },
        "id": "0Dg2r4bBEP_E",
        "outputId": "584ee26c-98d7-4a4f-ab1b-6a8e3f203a03"
      },
      "outputs": [
        {
          "name": "stdout",
          "output_type": "stream",
          "text": [
            "Перший вектор: [ 73  51  82 -19  29  59  20  41]\n",
            "Другий вектор: [-55  39 -87 -52 -30 -11  95 -52]\n",
            "Скалярний добуток: -9923\n"
          ]
        }
      ],
      "source": [
        "# 6 Створіть два вектори розміром 8, заповніть їх довільними цілими числами та знайдіть їх скалярний добуток.\n",
        "\n",
        "vector1 = np.random.randint(-100, 101, 8)\n",
        "vector2 = np.random.randint(-100, 101, 8)\n",
        "\n",
        "print(\"Перший вектор:\", vector1)\n",
        "print(\"Другий вектор:\", vector2)\n",
        "\n",
        "dot = np.dot(vector1, vector2)\n",
        "\n",
        "print(\"Скалярний добуток:\", dot)"
      ]
    },
    {
      "cell_type": "code",
      "execution_count": null,
      "metadata": {
        "colab": {
          "base_uri": "https://localhost:8080/"
        },
        "id": "QjvWyYLdFQ4h",
        "outputId": "9eec0ad8-c1cc-4748-cc1e-9b0d32620422"
      },
      "outputs": [
        {
          "name": "stdout",
          "output_type": "stream",
          "text": [
            "Перша матриця:\n",
            "[[1 8]\n",
            " [2 2]\n",
            " [2 1]]\n",
            "Друга матриця:\n",
            "[[5 2]\n",
            " [1 4]]\n",
            "Результат перемноження:\n",
            "[[13 34]\n",
            " [12 12]\n",
            " [11  8]]\n"
          ]
        }
      ],
      "source": [
        "# 7 Створіть дві матриці розміром 3x2 та 2x2, заповніть їх випадковими цілими числами в діапазоні від 1 до 8 та перемножте їх між собою.\n",
        "\n",
        "matrix1 = np.random.randint(1, 9, size=(3, 2))\n",
        "matrix2 = np.random.randint(1, 9, size=(2, 2))\n",
        "\n",
        "print(\"Перша матриця:\")\n",
        "print(matrix1)\n",
        "\n",
        "print(\"Друга матриця:\")\n",
        "print(matrix2)\n",
        "\n",
        "result_matrix = np.dot(matrix1, matrix2)\n",
        "\n",
        "print(\"Результат множення:\")\n",
        "print(result_matrix)"
      ]
    },
    {
      "cell_type": "code",
      "execution_count": null,
      "metadata": {
        "colab": {
          "base_uri": "https://localhost:8080/"
        },
        "id": "xFh2nJ1iFsip",
        "outputId": "71a1bb93-fdf4-4ea7-8653-1a2a7e2e4492"
      },
      "outputs": [
        {
          "name": "stdout",
          "output_type": "stream",
          "text": [
            "Початкова матриця:\n",
            "[[ 3  6]\n",
            " [10 10]]\n",
            "Обернена матриця:\n",
            "[[-0.33333333  0.2       ]\n",
            " [ 0.33333333 -0.1       ]]\n"
          ]
        }
      ],
      "source": [
        "# 8 Створіть матрицю розміром 2x2, заповніть її випадковими цілими числами в діапазоні від 1 до 10 та знайдіть її обернену матрицю.\n",
        "\n",
        "matrix = np.random.randint(1, 11, size=(2, 2))\n",
        "\n",
        "print(\"Початкова матриця:\")\n",
        "print(matrix)\n",
        "\n",
        "try:\n",
        "    inverse_matrix = np.linalg.inv(matrix)\n",
        "    print(\"Обернена матриця:\")\n",
        "    print(inverse_matrix)\n",
        "except np.linalg.LinAlgError:\n",
        "    print(\"Матриця не має оберненої матриці, оскільки її детермінант дорівнює нулю.\")"
      ]
    },
    {
      "cell_type": "code",
      "execution_count": null,
      "metadata": {
        "colab": {
          "base_uri": "https://localhost:8080/"
        },
        "id": "5i9hJjoLGgT3",
        "outputId": "fd369aac-cac7-4bb6-ea95-771d9c83a1f5"
      },
      "outputs": [
        {
          "name": "stdout",
          "output_type": "stream",
          "text": [
            "Початкова матриця:\n",
            "[[1 0 1]\n",
            " [0 0 0]\n",
            " [1 1 1]]\n",
            "Транспонована матриця:\n",
            "[[1 0 1]\n",
            " [0 0 1]\n",
            " [1 0 1]]\n"
          ]
        }
      ],
      "source": [
        "# 9 Створіть матрицю розміром 3x3, заповніть її випадковими цілими числами в діапазоні від 0 до 1 та транспонуйте її.\n",
        "\n",
        "\n",
        "matrix = np.random.randint(0, 2, size=(3, 3))\n",
        "\n",
        "print(\"Початкова матриця:\")\n",
        "print(matrix)\n",
        "\n",
        "transposed_matrix = np.transpose(matrix)\n",
        "\n",
        "print(\"Транспонована матриця:\")\n",
        "print(transposed_matrix)"
      ]
    },
    {
      "cell_type": "code",
      "execution_count": null,
      "metadata": {
        "colab": {
          "base_uri": "https://localhost:8080/"
        },
        "id": "hYl0dWZ2G1x_",
        "outputId": "9c11a1ed-974f-43d2-b5ba-1acfd090b2c9"
      },
      "outputs": [
        {
          "name": "stdout",
          "output_type": "stream",
          "text": [
            "Початкова матриця:\n",
            "[[6.57786453e-01 6.88845981e-04 6.72798004e-01 3.45367564e-01]\n",
            " [7.90843964e-01 1.73854507e-01 9.00345534e-01 7.64591749e-01]\n",
            " [7.82722272e-01 8.41293928e-01 3.70363071e-01 8.32233877e-01]]\n",
            "Вектор:\n",
            "[9 1 3 4]\n",
            "Добуток матриці на вектор:\n",
            "[ 9.32063119 13.05085378 12.3258191 ]\n"
          ]
        }
      ],
      "source": [
        "# 10\tСтворіть матрицю розміром 3x4 та вектор розміром 4, заповніть матрицю випадковими дійсними числами від 0 до 1,\n",
        "# а вектор - випадковими цілими числами в діапазоні від 1 до 10, і знайдіть добуток вектора на матрицю.\n",
        "\n",
        "matrix = np.random.rand(3, 4)\n",
        "\n",
        "print(\"Початкова матриця:\")\n",
        "print(matrix)\n",
        "\n",
        "vector = np.random.randint(1, 11, 4)\n",
        "\n",
        "print(\"Вектор:\")\n",
        "print(vector)\n",
        "\n",
        "product = np.dot(matrix, vector)\n",
        "\n",
        "print(\"Добуток матриці на вектор:\")\n",
        "print(product)"
      ]
    },
    {
      "cell_type": "code",
      "execution_count": null,
      "metadata": {
        "colab": {
          "base_uri": "https://localhost:8080/"
        },
        "id": "6TQIqPzTHxCe",
        "outputId": "6328d762-c7fb-46dd-b589-4e46483af28f"
      },
      "outputs": [
        {
          "name": "stdout",
          "output_type": "stream",
          "text": [
            "Початкова матриця:\n",
            "[[8 2 6]\n",
            " [9 9 4]]\n",
            "Вектор:\n",
            "[2 2 6]\n",
            "Результат:\n",
            "[56 60]\n"
          ]
        }
      ],
      "source": [
        "# 11 Створіть матрицю розміром 2x3 та вектор розміром 3, заповніть матрицю випадковими цілими числами в діапазоні від 1 до 10,\n",
        "# а вектор - випадковими цілими числами в діапазоні від 1 до 10, і знайдіть суму добутків елементів кожного рядка матриці на відповідний елемент вектору.\n",
        "\n",
        "matrix = np.random.randint(1, 11, size=(2, 3))\n",
        "\n",
        "print(\"Початкова матриця:\")\n",
        "print(matrix)\n",
        "\n",
        "vector = np.random.randint(1, 11, 3)\n",
        "\n",
        "print(\"Вектор:\")\n",
        "print(vector)\n",
        "\n",
        "result = np.sum(matrix * vector, axis=1)\n",
        "\n",
        "print(\"Результат:\")\n",
        "print(result)"
      ]
    },
    {
      "cell_type": "code",
      "execution_count": null,
      "metadata": {
        "colab": {
          "base_uri": "https://localhost:8080/"
        },
        "id": "ueYa8G_vIuoO",
        "outputId": "bcbc5569-44f9-4e93-fe53-0d945cad9851"
      },
      "outputs": [
        {
          "name": "stdout",
          "output_type": "stream",
          "text": [
            "Сума елементів першої матриці: 168\n",
            "Перша матриця:\n",
            "[[ 2  2  3 10  4  4]\n",
            " [ 4  5  8  7  3  8]\n",
            " [ 2  8  5  9  2  1]\n",
            " [ 5  8  6  3  2  3]\n",
            " [ 2  6  1  2 10  3]\n",
            " [ 6  6  3  6  4  5]]\n",
            "Друга матриця:\n",
            "[[ 4  1  4  9  3  5]\n",
            " [ 7  7  4  6  2  2]\n",
            " [ 9 10  4  1  8  1]\n",
            " [ 2  8  5  9  1  9]\n",
            " [ 7  5  1  4  9  8]\n",
            " [ 2  4  6  3  2  8]]\n"
          ]
        }
      ],
      "source": [
        "# 12 Створіть дві матриці розміром 6x6, заповніть їх випадковими цілими числами в діапазоні від 1 до 10 та знайдіть суму елементів першої матриці.\n",
        "\n",
        "matrix1 = np.random.randint(1, 11, size=(6, 6))\n",
        "matrix2 = np.random.randint(1, 11, size=(6, 6))\n",
        "\n",
        "sum_matrix1 = np.sum(matrix1)\n",
        "\n",
        "print(\"Сума елементів першої матриці:\", sum_matrix1)\n",
        "\n",
        "print(\"Перша матриця:\")\n",
        "print(matrix1)\n",
        "\n",
        "print(\"Друга матриця:\")\n",
        "print(matrix2)"
      ]
    },
    {
      "cell_type": "code",
      "execution_count": null,
      "metadata": {
        "colab": {
          "base_uri": "https://localhost:8080/"
        },
        "id": "rRHfl2GWKIur",
        "outputId": "d4ae3d7b-8de1-403a-9e77-78cb7f14348b"
      },
      "outputs": [
        {
          "name": "stdout",
          "output_type": "stream",
          "text": [
            "Різниця елементів матриць:\n",
            "[[ 0.49250377 -0.14936029 -0.18135328 -0.31029803 -0.24342037  0.43673742]\n",
            " [-0.18991088  0.20666036 -0.3223368   0.11050471  0.91862822  0.30464433]\n",
            " [-0.55117116 -0.13039949 -0.20312646 -0.56502239  0.05932547 -0.17198283]\n",
            " [ 0.01306769 -0.49330131  0.19200982 -0.4468191   0.59210934 -0.25787831]\n",
            " [ 0.09457541  0.54945024 -0.15767108  0.54339266 -0.87593372  0.17377569]\n",
            " [-0.29615864  0.33479939  0.46577092 -0.04120116  0.13888308 -0.70981957]]\n"
          ]
        }
      ],
      "source": [
        "# 13 Створіть дві матриці розміром 6x6, заповніть їх випадковими дійсними числами в діапазоні від 0 до 1 та знайдіть різницю їх елементів.\n",
        "\n",
        "\n",
        "matrix1 = np.random.rand(6, 6)\n",
        "matrix2 = np.random.rand(6, 6)\n",
        "\n",
        "difference_matrix = matrix1 - matrix2\n",
        "\n",
        "print(\"Різниця елементів матриць:\")\n",
        "print(difference_matrix)"
      ]
    },
    {
      "cell_type": "code",
      "execution_count": null,
      "metadata": {
        "colab": {
          "base_uri": "https://localhost:8080/"
        },
        "id": "uMn27yDKKkck",
        "outputId": "25af6eda-9e0c-4385-99c3-32ba3a33e162"
      },
      "outputs": [
        {
          "name": "stdout",
          "output_type": "stream",
          "text": [
            "Добуток елементів матриці:\n",
            "8.273883548451385e+42\n"
          ]
        }
      ],
      "source": [
        "# 14 Створіть матрицю розміром 9x9, заповніть її випадковими дійсними числами в діапазоні від -10 до 10 та знайдіть добуток елементів матриці.\n",
        "\n",
        "matrix = np.random.uniform(-10, 10, size=(9, 9))\n",
        "\n",
        "product = np.prod(matrix)\n",
        "\n",
        "print(\"Добуток елементів матриці:\")\n",
        "print(product)"
      ]
    },
    {
      "cell_type": "code",
      "execution_count": null,
      "metadata": {
        "colab": {
          "base_uri": "https://localhost:8080/"
        },
        "id": "y4XP2SOTK6zj",
        "outputId": "96ca8dc7-4fde-453d-dfbf-f7cb31a31ab9"
      },
      "outputs": [
        {
          "name": "stdout",
          "output_type": "stream",
          "text": [
            "Вектор з найбільшими елементами в кожному рядку:\n",
            "[0.89383274 0.9050895  0.93127844 0.8466159  0.87641604 0.85964941\n",
            " 0.94062601]\n"
          ]
        }
      ],
      "source": [
        "# 15 Створіть матрицю розміром 7x7, заповніть її випадковими дійсними числами в діапазоні\n",
        "# від 0 до 1 та знайдіть вектор-стовпчик, що містить найбільший елемент у кожному рядку матриці.\n",
        "\n",
        "matrix = np.random.rand(7, 7)\n",
        "\n",
        "max_in_rows = np.max(matrix, axis=1)\n",
        "\n",
        "print(\"Вектор з найбільшими елементами в кожному рядку:\")\n",
        "print(max_in_rows)"
      ]
    }
  ],
  "metadata": {
    "colab": {
      "provenance": []
    },
    "kernelspec": {
      "display_name": "Python 3",
      "name": "python3"
    },
    "language_info": {
      "codemirror_mode": {
        "name": "ipython",
        "version": 3
      },
      "file_extension": ".py",
      "mimetype": "text/x-python",
      "name": "python",
      "nbconvert_exporter": "python",
      "pygments_lexer": "ipython3",
      "version": "3.6.2"
    }
  },
  "nbformat": 4,
  "nbformat_minor": 0
}
