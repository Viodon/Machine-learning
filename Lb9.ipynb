{
 "cells": [
  {
   "cell_type": "code",
   "execution_count": null,
   "metadata": {},
   "outputs": [],
   "source": [
    "import tensorflow as tf\n",
    "import numpy as np\n",
    "import matplotlib.pyplot as plt"
   ]
  },
  {
   "cell_type": "code",
   "execution_count": 3,
   "metadata": {},
   "outputs": [],
   "source": [
    "num_classes = 10\n",
    "num_features = 784\n",
    "learning_rate = 0.001\n",
    "training_steps = 3000\n",
    "batch_size = 256\n",
    "display_step = 100\n",
    "n_hidden_1 = 128\n",
    "n_hidden_2 = 256"
   ]
  },
  {
   "cell_type": "code",
   "execution_count": null,
   "metadata": {},
   "outputs": [],
   "source": [
    "from tensorflow.keras.datasets import mnist\n",
    "(x_train, y_train), (x_test, y_test) = mnist.load_data()\n",
    "x_train, x_test = np.array(x_train, np.float32), np.array(x_test, np.float32)\n",
    "x_train, x_test = x_train.reshape([-1, num_features]), x_test.reshape([-1, num_features])\n",
    "x_train, x_test = x_train / 255., x_test / 255.\n",
    "train_data = tf.data.Dataset.from_tensor_slices((x_train, y_train))\n",
    "train_data = train_data.repeat().shuffle(5000).batch(batch_size).prefetch(1)"
   ]
  },
  {
   "cell_type": "code",
   "execution_count": null,
   "metadata": {},
   "outputs": [],
   "source": [
    "class DenseLayer(tf.Module):\n",
    "    def __init__(self, in_features, out_features, name=None):\n",
    "        super().__init__(name=name)\n",
    "        self.w = tf.Variable(\n",
    "            tf.random.normal([in_features, out_features]), name=\"w\"\n",
    "        )\n",
    "        self.b = tf.Variable(tf.zeros([out_features]), name=\"b\")\n",
    "\n",
    "    def __call__(self, x, activation=0):\n",
    "        y = tf.matmul(x, self.w) + self.b\n",
    "        if activation != 0:\n",
    "            return tf.nn.softmax(y)\n",
    "        else:\n",
    "            return tf.nn.sigmoid(y)\n",
    "\n",
    "class NN(tf.Module):\n",
    "  def __init__(self, name=None):\n",
    "    super().__init__(name=name)\n",
    "    self.layer_1 = DenseLayer(in_features=num_features, out_features=n_hidden_1)\n",
    "    self.layer_2 = DenseLayer(in_features=n_hidden_1, out_features=n_hidden_2)\n",
    "    self.layer_3 = DenseLayer(in_features=n_hidden_2, out_features=num_classes)\n",
    "\n",
    "  def __call__(self, x):\n",
    "    \n",
    "    x1 = self.layer_1(x, activation=0)\n",
    "    x2 = self.layer_2(x1, activation=0)\n",
    "    x3 = self.layer_3(x2, activation=1)\n",
    "\n",
    "    return x3"
   ]
  },
  {
   "cell_type": "code",
   "execution_count": null,
   "metadata": {},
   "outputs": [],
   "source": [
    "def cross_entropy(y_pred, y_true):\n",
    "\n",
    "    y_true = tf.one_hot(y_true, depth=num_classes)\n",
    "\n",
    "    y_pred = tf.clip_by_value(y_pred, 1e-9, 1.)\n",
    "\n",
    "    return tf.reduce_mean(-tf.reduce_sum(y_true * tf.math.log(y_pred)))\n",
    "\n",
    "def accuracy(y_pred, y_true):\n",
    "    acc = tf.metrics.Accuracy()\n",
    "    acc.update_state(y_true, tf.argmax(y_pred, axis=1))\n",
    "    return acc.result()"
   ]
  },
  {
   "cell_type": "code",
   "execution_count": null,
   "metadata": {},
   "outputs": [],
   "source": [
    "neural_net = NN(name=\"mnist\")\n",
    "def train(nn, input_x, output_y):\n",
    "  optimizer = tf.optimizers.SGD(learning_rate)\n",
    "  with tf.GradientTape() as g:\n",
    "    pred = neural_net(input_x)\n",
    "    loss = cross_entropy(pred, output_y)\n",
    "    trainable_variables = nn.trainable_variables\n",
    "    gradients = g.gradient(loss, trainable_variables)\n",
    "    optimizer.apply_gradients(zip(gradients, trainable_variables))"
   ]
  },
  {
   "cell_type": "code",
   "execution_count": null,
   "metadata": {},
   "outputs": [],
   "source": [
    "loss_history = []\n",
    "accuracy_history = []\n",
    "for step, (batch_x, batch_y) in enumerate(train_data.take(training_steps)):\n",
    "    train(neural_net, batch_x, batch_y)\n",
    "    \n",
    "    if step % display_step == 0:\n",
    "        pred = neural_net(batch_x)\n",
    "        current_loss = cross_entropy(pred, batch_y)\n",
    "        loss_history.append(current_loss)\n",
    "        current_accuracy = accuracy(pred, batch_y)\n",
    "        accuracy_history.append(current_accuracy)\n",
    "        print(f\"Step: {step}, Loss: {current_loss}, Accuracy: {current_accuracy}\")"
   ]
  },
  {
   "cell_type": "code",
   "execution_count": null,
   "metadata": {},
   "outputs": [],
   "source": [
    "import pandas as pd\n",
    "fig, axs = plt.subplots(figsize=(16, 10))\n",
    "axs.plot(loss_history, 'r', label='loss', linestyle=\":\")\n",
    "axs.legend()\n",
    "axs2=axs.twinx()\n",
    "axs2.plot(accuracy_history, 'b', label='accuracy', linestyle=\":\")\n",
    "plt.legend()\n",
    "plt.title('Залежності зміни точності та втрат від кроку', fontsize=20, color='g')\n",
    "plt.show()"
   ]
  },
  {
   "cell_type": "code",
   "execution_count": null,
   "metadata": {},
   "outputs": [],
   "source": [
    "neural_net_accuracy = accuracy(neural_net(x_train), y_train)\n",
    "print(f\"Accuracy: {neural_net_accuracy}\")"
   ]
  },
  {
   "cell_type": "code",
   "execution_count": null,
   "metadata": {},
   "outputs": [],
   "source": [
    "test_img = np.random.permutation(x_test.shape[0])[:10]\n",
    "y_test_true = y_test[test_img]\n",
    "pred_data = [np.argmax(x) for x in neural_net(x_test[test_img])]\n",
    "plt.figure(figsize=(16, 6))\n",
    "for i in range(10):\n",
    "    print(f\"True: {y_test_true[i]} Predict: {pred_data[i]} {True if y_test_true[i] - pred_data[i] == 0 else False}\")\n",
    "    plt.subplot(1, 10, (i + 1))\n",
    "    plt.imshow(x_test[test_img[i]].reshape(28, 28), cmap='gray')\n",
    "    plt.text(x=10, y=-10, s=pred_data[i], fontsize=18)\n",
    "plt.tight_layout()\n",
    "plt.show()"
   ]
  },
  {
   "cell_type": "markdown",
   "metadata": {},
   "source": [
    "Наведений уривок коду реалізує просту нейронну мережу для класифікації рукописних цифр на наборі даних MNIST. Мережа має два приховані шари та використовує функцію активації softmax у вихідному шарі для визначення ймовірностей класів.\n",
    "\n",
    "Під час тренування моделі на екран виводяться графіки зміни втрат і точності на кожному кроці навчання. Це надає уявлення про те, як модель поступово поліпшується зі збільшенням кількості ітерацій.\n",
    "\n",
    "Далі виводяться 10 випадкових зображень з тестового набору, разом із правильними та передбаченими класами. Аналіз результатів показує, що модель в основному вірно класифікує зображення, демонструючи ефективність у завданні розпізнавання рукописних цифр.\n",
    "\n",
    "Узагальнюючи, код демонструє успішність нейронної мережі в класифікації чисел на основі рукописів, і виводи надають зрозуміле уявлення про процес її навчання та точність."
   ]
  }
 ],
 "metadata": {
  "kernelspec": {
   "display_name": "base",
   "language": "python",
   "name": "python3"
  },
  "language_info": {
   "codemirror_mode": {
    "name": "ipython",
    "version": 3
   },
   "file_extension": ".py",
   "mimetype": "text/x-python",
   "name": "python",
   "nbconvert_exporter": "python",
   "pygments_lexer": "ipython3",
   "version": "3.8.7"
  }
 },
 "nbformat": 4,
 "nbformat_minor": 2
}
